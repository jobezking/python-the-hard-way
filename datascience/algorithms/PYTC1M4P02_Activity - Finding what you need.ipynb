{
 "cells": [
  {
   "cell_type": "markdown",
   "id": "50655c78-1f0a-488e-b83e-b59cc7bd1917",
   "metadata": {},
   "source": [
    "## How to Interact with this Jupyter Notebook\n",
    "\n",
    "In this activity, you will use a Jupyter Notebook, which integrates both text and code. The gray boxes contain executable code, which you will run in order to view its output. The text in between the code provides instructions."
   ]
  },
  {
   "cell_type": "markdown",
   "id": "8c8e60e1-6d49-4001-a4dc-9e093f6c3bf5",
   "metadata": {},
   "source": [
    "## Scenario: Taming the Book Stacks: Sorting and Searching in Python\n",
    "\n",
    "You're managing a growing digital library catalog. As the collection expands, it becomes increasingly challenging to keep the books organized and ensure users can quickly find what they're looking for. Manual sorting and searching would be time-consuming and inefficient.  This is where the power of sorting and searching algorithms comes in. By implementing these techniques, you can create a user-friendly catalog that allows for easy browsing and swift retrieval of any book, no matter how large the library becomes.\n",
    "\n",
    "### Why Sorting and Searching Algorithms Matter:\n",
    "\n",
    "* **Efficient Navigation:** Sorting algorithms arrange book data in a logical order, making it easier for users (or librarians!) to browse and find what they need. Think of it like arranging books alphabetically on a shelf – it saves everyone time and frustration.\n",
    "\n",
    "* **Rapid Retrieval:** Search algorithms enable quick and precise book lookup. Whether you're searching by title, author, or other criteria, these algorithms act like a librarian's expert knowledge, pinpointing the desired book efficiently.\n",
    "\n",
    "* **Scalability:** As libraries grow (and digital collections can grow very large), sorting and searching algorithms become even more crucial. They ensure that the library system remains responsive and user-friendly, even with thousands or millions of books.\n",
    "\n",
    "* **Flexibility:** These algorithms aren't just for libraries. They are fundamental tools for organizing and accessing data in countless applications, from online stores to search engines. Understanding them equips you with valuable skills for working with data in any field.\n",
    "\n",
    "\n",
    "## Activity Summary:\n",
    "\n",
    "In this activity, you will:\n",
    "\n",
    "* **Sort Book Data:** Learn how to sort a list of book dictionaries, creating a well-organized digital catalog.\n",
    "* **Implement Linear Search:** Discover how to systematically search through your book collection, examining each item one by one.\n",
    "* **Implement Binary Search:** Explore a more efficient search method that leverages sorted data to quickly find specific books.\n",
    "* **Compare and Contrast:** Understand the tradeoffs between different search algorithms, empowering you to choose the best approach for various scenarios.\n"
   ]
  },
  {
   "cell_type": "markdown",
   "id": "f9f54f15-4e03-4d6b-9697-6ecc1d7f82b0",
   "metadata": {},
   "source": [
    "Begin by running the cell below, which imports the `pandas` library and loads the csv file named `book_catalog_10.csv`."
   ]
  },
  {
   "cell_type": "code",
   "execution_count": 2,
   "id": "da109ed7-d645-4fde-8b1e-0461a4fbea81",
   "metadata": {},
   "outputs": [],
   "source": [
    "# Import a powerful tool called \"pandas\" that you'll use to work with and organize data easily\n",
    "import pandas as pd\n",
    "\n",
    "# Load the book catalog from the CSV file\n",
    "book_catalog_df = pd.read_csv('book_catalog_10.csv')"
   ]
  },
  {
   "cell_type": "markdown",
   "id": "54064899-a8f6-422b-875b-7a9cf4610a2b",
   "metadata": {},
   "source": [
    "Notice that nothing has been output from the cell after you ran it. That's because you didn't print any of the results of the csv, you only loaded it in the cell above as a **DataFrame**.\n",
    "\n",
    "Think of a DataFrame like a super-organized table. It has rows and columns, just like a spreadsheet you might have used before. This structure makes it really easy to view, manage, and analyze your book data.  \n",
    "\n",
    "Run the cell below, which converts the DataFrame `book_catalog_df` above into a **dictionary** and then prints the results. \n",
    "\n",
    "Imagine a dictionary as a collection of labeled boxes. Each box has a label (called a \"key\") and something stored inside (called a \"value\").  In our case, each \"box\" represents a book, and the labels are things like \"title\", \"author\", and \"publication_year\".\n",
    "\n",
    "You're doing this conversion because it will make it easier to work with the book data."
   ]
  },
  {
   "cell_type": "code",
   "execution_count": 3,
   "id": "681e6928-113b-4afa-aaa6-90c9b189efab",
   "metadata": {},
   "outputs": [
    {
     "name": "stdout",
     "output_type": "stream",
     "text": [
      "[{'title': '1984', 'author': 'George Orwell', 'publication_year': 1949}, {'title': 'Pride and Prejudice', 'author': 'Jane Austen', 'publication_year': 1813}, {'title': 'The Catcher in the Rye', 'author': 'J.D. Salinger', 'publication_year': 1951}, {'title': 'The Great Gatsby', 'author': 'F. Scott Fitzgerald', 'publication_year': 1925}, {'title': 'To Kill a Mockingbird', 'author': 'Harper Lee', 'publication_year': 1960}, {'title': 'The Lord of the Rings', 'author': 'J.R.R. Tolkien', 'publication_year': 1954}, {'title': \"Harry Potter and the Philosopher's Stone\", 'author': 'J.K. Rowling', 'publication_year': 1997}, {'title': \"The Hitchhiker's Guide to the Galaxy\", 'author': 'Douglas Adams', 'publication_year': 1979}, {'title': 'The Da Vinci Code', 'author': 'Dan Brown', 'publication_year': 2003}, {'title': 'The Hunger Games', 'author': 'Suzanne Collins', 'publication_year': 2008}]\n"
     ]
    }
   ],
   "source": [
    "# Convert the DataFrame to a list of dictionaries\n",
    "book_catalog = book_catalog_df.to_dict(orient='records')\n",
    "\n",
    "# Print the list of dictionaries\n",
    "print(book_catalog)"
   ]
  },
  {
   "cell_type": "markdown",
   "id": "97b48322-738b-40d5-bddf-4dc1fb40e42e",
   "metadata": {},
   "source": [
    "Great! Now that you've printed the `book_catalog`, you can see that it is organized as a list of dictionaries.  \n",
    "\n",
    "Remember, each dictionary is like a labeled box holding information about one book. Inside each \"box,\" you'll find pairs of labels (called \"keys\") and the information associated with them (called \"values\"). \n",
    "\n",
    "For example, the key \"title\" is paired with the value \"1984\", telling us the name of the book.  \n",
    "\n",
    "Take a quick glance at the output above to see if you can spot any familiar titles or authors within those curly brackets."
   ]
  },
  {
   "cell_type": "markdown",
   "id": "d2551fe2-c79f-4be1-b8db-716504428251",
   "metadata": {},
   "source": [
    "Although you have the `book catalog` printed out, it is a bit jumbled, isn't it?  Imagine trying to find a specific book in a messy library – it would take forever!\n",
    "\n",
    "That's why you need to sort the `book catalog`.  Just like arranging books alphabetically on a shelf, sorting makes it much easier to browse and find what you're looking for. \n",
    "\n",
    "The code in the cell below does exactly that! Before you run it, let's break it down:\n",
    "\n",
    "* **Helper Functions:**  In programming, a helper function is simply a function that assists another function in completing its task.  Think of these like little librarian assistants.  They perform specific tasks to make the main job (sorting the catalog) easier.\n",
    "    * `get_title(book)`:  This helper simply plucks the title out of a book's dictionary, so we can focus on just that when sorting. \n",
    "    * `sort_catalog_by_title(catalog)`: This is the main librarian in charge of sorting.  It uses a special Python trick (`catalog.sort()`) to arrange all the books in alphabetical order by their titles. \n",
    "    \n",
    "* **Putting It All Together:**\n",
    "    * The code calls the `sort_catalog_by_title` function to do the actual sorting. \n",
    "    * Then, the code prints out the nicely organized catalog so you can see the results! \n",
    "\n",
    "**Ready to see it in action? Run the cell below!** "
   ]
  },
  {
   "cell_type": "code",
   "execution_count": 4,
   "id": "53aeb971-dc73-4fd8-8daf-ef54ef61a1e2",
   "metadata": {},
   "outputs": [
    {
     "name": "stdout",
     "output_type": "stream",
     "text": [
      "Title: 1984, Author: George Orwell, Publication Year: 1949\n",
      "Title: Harry Potter and the Philosopher's Stone, Author: J.K. Rowling, Publication Year: 1997\n",
      "Title: Pride and Prejudice, Author: Jane Austen, Publication Year: 1813\n",
      "Title: The Catcher in the Rye, Author: J.D. Salinger, Publication Year: 1951\n",
      "Title: The Da Vinci Code, Author: Dan Brown, Publication Year: 2003\n",
      "Title: The Great Gatsby, Author: F. Scott Fitzgerald, Publication Year: 1925\n",
      "Title: The Hitchhiker's Guide to the Galaxy, Author: Douglas Adams, Publication Year: 1979\n",
      "Title: The Hunger Games, Author: Suzanne Collins, Publication Year: 2008\n",
      "Title: The Lord of the Rings, Author: J.R.R. Tolkien, Publication Year: 1954\n",
      "Title: To Kill a Mockingbird, Author: Harper Lee, Publication Year: 1960\n"
     ]
    }
   ],
   "source": [
    "# Helper function 1: \n",
    "def get_title(book): \n",
    "  \"\"\"Helper function to extract the title from a book dictionary.\"\"\"\n",
    "  return book['title']\n",
    "\n",
    "# Helper function 2: \n",
    "def sort_catalog_by_title(catalog): \n",
    "  \"\"\"Sorts the book catalog alphabetically by title.\"\"\"\n",
    "  catalog.sort(key=get_title)\n",
    "    \n",
    "# Sort the catalog\n",
    "sort_catalog_by_title(book_catalog)\n",
    "\n",
    "# Display the sorted catalog\n",
    "for book in book_catalog:\n",
    "  print(f\"Title: {book['title']}, Author: {book['author']}, Publication Year: {book['publication_year']}\")\n"
   ]
  },
  {
   "cell_type": "markdown",
   "id": "74829919-f551-4020-b9ab-6ec6f77e4124",
   "metadata": {},
   "source": [
    "Look at that! Your book catalog is now sorted alphabetically by title. \n",
    "\n",
    "It's much easier to find a specific book now, isn't it? This is the power of sorting algorithms – bringing order to data so we can navigate it more efficiently. \n",
    "\n",
    "But what if you want to find a book without scanning the entire list? That's where search algorithms come in handy.  They help you pinpoint specific items within a dataset, just like a librarian helps you find a book on the shelf. "
   ]
  },
  {
   "cell_type": "markdown",
   "id": "78d0b2ed-c886-446c-a8b9-4f116f3c2a27",
   "metadata": {},
   "source": [
    "In the next cell, you'll explore one such algorithm called **linear search**.  It's like systematically checking each book on a shelf until we find the one we're looking for. But how does checking each book on a shelf one by one translate into Python code?\n",
    "\n",
    "Let's breakdown the code in the following cell before running it: \n",
    "\n",
    "The `search_books` function below does the following:\n",
    "\n",
    "1. **Takes Input:** It needs two things to work:\n",
    "    * The `catalog`:  This is your sorted list of book dictionaries.\n",
    "    * The `query`:  This is what you're searching for – it could be a book title or an author's name. \n",
    "\n",
    "\n",
    "2. **Sets up a List for Results:** It creates an empty list called `results` to store any books that match our search. \n",
    "\n",
    "3. **Checks Each Book:**  It goes through each `book` in the `catalog`:\n",
    "    * It converts both the `query` and the book's `title` and `author` to lowercase. This makes the search case-insensitive (so \"the great gatsby\" and \"The Great Gatsby\" are considered the same). \n",
    "    * It checks if the `query` is found within the book's `title` OR the book's `author`.\n",
    "    * If there's a match, it adds that `book` to the `results` list. \n",
    "\n",
    "\n",
    "4. **Returns the Results:**  Finally, it gives you back the `results` list, which contains all the books that matched our search (or an empty list if nothing was found).\n",
    "\n",
    "**In simpler terms, it's like going through each book on the shelf, checking if it's the one you want, and putting it aside if it is.**\n",
    "\n",
    "**Ready to see it in action? Run the cell below!** "
   ]
  },
  {
   "cell_type": "code",
   "execution_count": 5,
   "id": "014dbebd-5eeb-4ac1-be94-d8755982f3c1",
   "metadata": {},
   "outputs": [],
   "source": [
    "# Helper function: Linear Search\n",
    "def search_books(catalog, query):\n",
    "  \"\"\"Searches for books by title or author using linear search.\"\"\"\n",
    "  results = []\n",
    "  for book in catalog:\n",
    "    if query.lower() in book['title'].lower() or query.lower() in book['author'].lower():\n",
    "      results.append(book)\n",
    "  return results"
   ]
  },
  {
   "cell_type": "markdown",
   "id": "82a4b70f-5993-47b7-bedf-773c019b8681",
   "metadata": {},
   "source": [
    "Now that you have your `search_books` function ready, put it to the test!\n",
    "\n",
    "In the code cell below:\n",
    "\n",
    "1. **Fill in the Query:**  Replace the empty quotes (`\"\"`) in the `query` variable with the title **\"The Great Gatsby\"**.  This is the book you'll try to find in your catalog.\n",
    "\n",
    "2. **Run the Code:**  Execute the cell to see if your linear search can locate the book. \n",
    "\n",
    "If everything works correctly, you should see the details of \"The Great Gatsby\" printed out! "
   ]
  },
  {
   "cell_type": "code",
   "execution_count": 6,
   "id": "5891cdd6-1e66-4614-aca3-a42bf7dd2062",
   "metadata": {},
   "outputs": [
    {
     "name": "stdout",
     "output_type": "stream",
     "text": [
      "No books found matching your query.\n"
     ]
    }
   ],
   "source": [
    "# Search for \"The Great Gatsby\" \n",
    "query = \"insert code here\"  \n",
    "search_results = search_books(book_catalog, query)\n",
    "\n",
    "if search_results:\n",
    "  print(\"\\nSearch results:\")\n",
    "  for book in search_results:\n",
    "    print(f\"Title: {book['title']}, Author: {book['author']}, Publication Year: {book['publication_year']}\")\n",
    "else:\n",
    "  print(\"No books found matching your query.\")"
   ]
  },
  {
   "cell_type": "markdown",
   "id": "06640797-7f81-4a86-8d4f-6805cd832747",
   "metadata": {},
   "source": [
    "Great! Now try searching for \"Dune\" in the query and run the cell.\n",
    "\n",
    "Notice the output."
   ]
  },
  {
   "cell_type": "code",
   "execution_count": 9,
   "id": "d84d62c1-08a2-4156-9e9e-0d7c06756910",
   "metadata": {},
   "outputs": [
    {
     "name": "stdout",
     "output_type": "stream",
     "text": [
      "No books found matching your query.\n"
     ]
    }
   ],
   "source": [
    "# Search for \"Dune\" \n",
    "query = \"insert code here\"  \n",
    "search_results = search_books(book_catalog, query)\n",
    "\n",
    "if search_results:\n",
    "  print(\"\\nSearch results:\")\n",
    "  for book in search_results:\n",
    "    print(f\"Title: {book['title']}, Author: {book['author']}, Publication Year: {book['publication_year']}\")\n",
    "else:\n",
    "  print(\"No books found matching your query.\")"
   ]
  },
  {
   "cell_type": "markdown",
   "id": "979340a1-48c7-4877-a715-b1faa7ed86de",
   "metadata": {},
   "source": [
    "Your `search_books` function is working well, but it is also versatile!  It can search for books by *either* title *or* author. \n",
    "\n",
    "Try searching for an author instead of a book.\n",
    "\n",
    "1. **Fill in the Query:**  Replace the empty quotes (`\"\"`) in the `query` variable with the author **\"J.K. Rowling\"**.  This is the author you'll try to find in your catalog.\n",
    "\n",
    "2. **Run the Code:** Execute the cell and observe the results."
   ]
  },
  {
   "cell_type": "code",
   "execution_count": 7,
   "id": "83df19c5-c12e-4f30-afda-69fbdc13ce44",
   "metadata": {},
   "outputs": [
    {
     "name": "stdout",
     "output_type": "stream",
     "text": [
      "\n",
      "Search results:\n",
      "Title: Harry Potter and the Philosopher's Stone, Author: J.K. Rowling, Publication Year: 1997\n"
     ]
    }
   ],
   "source": [
    "# Search for author\n",
    "query = \"insert code here\" \n",
    "search_results = search_books(book_catalog, query)\n",
    "\n",
    "if search_results:\n",
    "  print(\"\\nSearch results:\")\n",
    "  for book in search_results:\n",
    "    print(f\"Title: {book['title']}, Author: {book['author']}, Publication Year: {book['publication_year']}\")\n",
    "else:\n",
    "  print(\"No books found matching your query.\")"
   ]
  },
  {
   "cell_type": "markdown",
   "id": "8614906b-f695-41a9-8041-5b914130a069",
   "metadata": {},
   "source": [
    "Even though you searched for an author's name, not a book title, you still got a result! Take a moment to review the `search_books` function code above to see why this is the case.\n",
    "\n",
    "Your linear search algorithm is working well, but it can be a bit slow if you have a *huge* library.  Imagine searching for a book in a massive bookstore by checking every single title one by one – that would take a very long time!\n",
    "\n",
    "Luckily, there's a faster way when your catalog is sorted: **binary search**. It's like playing a guessing game where you keep halving the possibilities until you find what you're looking for. But how does this translate into Python code?\n",
    "\n",
    "Let's breakdown the code in the following cell before running it: \n",
    "\n",
    "Here is what the `binary_search_books` function does:\n",
    "\n",
    "1. **Takes Input:**  Just like linear search, it needs the `catalog` and the `query` (the book title we're searching for).\n",
    "\n",
    "2. **Sets Up Boundaries:**  It starts by marking the beginning (`low`) and the end (`high`) of the catalog.\n",
    "\n",
    "3. **The Guessing Game:**\n",
    "   * It calculates the middle point (`mid`) between `low` and `high`.\n",
    "   * It checks if the book at the `mid` point is the one we're looking for.\n",
    "   * If not, it compares the book's title at the `mid` point to our `query`:\n",
    "     * If the `mid` point title is \"less than\" our `query`, we know the book we want must be in the *higher* half of the catalog, so we adjust `low` to `mid + 1`.\n",
    "     * If the `mid` point title is \"greater than\" our `query`, we know the book we want must be in the *lower* half, so we adjust `high` to `mid - 1`.\n",
    "   * It keeps repeating this process, narrowing down the search area by half each time, until it finds the book or determines it's not there.\n",
    "\n",
    "\n",
    "4. **Returns the Result:**  If it finds the book, it returns the entire book dictionary. Otherwise, it returns `None` to indicate the book wasn't found.\n",
    "\n",
    "**Think of it like this:** You're looking for a word in a dictionary. Instead of starting from the beginning, you open it somewhere in the middle. If the word you want comes *after* the words on that page, you flip to the second half of the dictionary. If it comes *before*, you flip to the first half. You keep doing this until you find the exact page!\n",
    "\n",
    "**Ready to see it in action? Run the cell below!** "
   ]
  },
  {
   "cell_type": "code",
   "execution_count": 8,
   "id": "8cf463db-ba7e-4357-9df6-df43b25d473e",
   "metadata": {},
   "outputs": [],
   "source": [
    "def binary_search_books(catalog, query):\n",
    "  \"\"\"Searches for books by title using binary search (assuming sorted catalog).\"\"\"\n",
    "  low = 0\n",
    "  high = len(catalog) - 1\n",
    "\n",
    "  while low <= high:\n",
    "    mid = (low + high) // 2\n",
    "    if catalog[mid]['title'].lower() == query.lower():\n",
    "      return catalog[mid]\n",
    "    elif catalog[mid]['title'].lower() < query.lower():\n",
    "      low = mid + 1\n",
    "    else:\n",
    "      high = mid - 1\n",
    "\n",
    "  return None  # Book not found"
   ]
  },
  {
   "cell_type": "markdown",
   "id": "e27bceb7-491b-4606-b4bc-53b3acc2325f",
   "metadata": {},
   "source": [
    "In the cells above, you used linear search to find \"The Great Gatsby\", but can you find it even *faster*? \n",
    "\n",
    "Remember, binary search is super speedy when our data is sorted. It works by repeatedly dividing the search area in half, like a high-tech guessing game.\n",
    "\n",
    "The problem is that your `book_catalog_10.csv` dataset is much too small for you to observe the difference between these two search algorithms. In the code cells below, you will find that a much larger `big_book_catalog.csv` dataset has been loaded for you. \n",
    "\n",
    "It has around 271,380 rows!\n",
    "\n",
    "\n",
    "1. **Run the Following Two Cells:**  The cells below each already have the query set to `\"The Great Gatsby\"`. Each cell also has uses the `time` module to measure the execution time of the `search_books` and `binary_search_books` functions by recording timestamps before and after the search and then calculating the difference.\n",
    "\n",
    "2. **Observe the Output of Each Cell:** Which one was faster?"
   ]
  },
  {
   "cell_type": "code",
   "execution_count": 19,
   "id": "96c53eb9-fa20-424f-a322-8219556482e4",
   "metadata": {},
   "outputs": [
    {
     "name": "stdout",
     "output_type": "stream",
     "text": [
      "\n",
      "Search results:\n",
      "Title: The Great Gatsby, Author: F. Scott Fitzgerald, Publication Year: 1925\n",
      "\n",
      "Linear search took 0.00006 seconds.\n"
     ]
    }
   ],
   "source": [
    "# This is like using a stopwatch to see how long it takes to find the books. \n",
    "# We start the timer, do the search, then stop the timer and calculate how much time passed.\n",
    "import time\n",
    "start_time = time.time()  # Record start time\n",
    "search_results = search_books(book_catalog, query)\n",
    "end_time = time.time()    # Record end time\n",
    "elapsed_time_linear = end_time - start_time\n",
    "\n",
    "# Loads the big_book_catalog which has which has ~271,380 rows!\n",
    "big_book_catalog_df = pd.read_csv('big_book_catalog.csv', low_memory=False)\n",
    "big_book_catalog = book_catalog_df.to_dict(orient='records')\n",
    "\n",
    "# Searches for \"The Great Gatsby\" using Linear Search\n",
    "query = \"The Great Gatsby\"  \n",
    "search_results = search_books(big_book_catalog, query)\n",
    "\n",
    "if search_results:\n",
    "  print(\"\\nSearch results:\")\n",
    "  for book in search_results:\n",
    "    print(f\"Title: {book['title']}, Author: {book['author']}, Publication Year: {book['publication_year']}\")\n",
    "else:\n",
    "  print(\"No books found matching your query.\")\n",
    "\n",
    "print(f\"\\nLinear search took {elapsed_time_linear:.5f} seconds.\") \n"
   ]
  },
  {
   "cell_type": "code",
   "execution_count": 9,
   "id": "780d6a63-2e0d-40dc-a1b0-8f438e83d1fb",
   "metadata": {},
   "outputs": [
    {
     "name": "stdout",
     "output_type": "stream",
     "text": [
      "\n",
      "Binary Search Result for 'The Great Gatsby':\n",
      "Title: The Great Gatsby, Author: F. Scott Fitzgerald, Publication Year: 1925\n",
      "\n",
      "Binary search took 0.00004 seconds.\n"
     ]
    }
   ],
   "source": [
    "# This is like using a stopwatch to see how long it takes to find the books. \n",
    "# We start the timer, do the search, then stop the timer and calculate how much time passed.\n",
    "import time\n",
    "start_time = time.time()\n",
    "search_result = binary_search_books(book_catalog, query)\n",
    "end_time = time.time()\n",
    "elapsed_time_binary = end_time - start_time\n",
    "\n",
    "# Loads the big_book_catalog which has which has ~271,380 rows!\n",
    "big_book_catalog_df = pd.read_csv('big_book_catalog.csv', low_memory=False)\n",
    "big_book_catalog = book_catalog_df.to_dict(orient='records')\n",
    "\n",
    "# Searches for \"The Great Gatsby\" using Binary Search\n",
    "query = \"The Great Gatsby\"\n",
    "search_result = binary_search_books(big_book_catalog, query)\n",
    "\n",
    "if search_result:\n",
    "  print(\"\\nBinary Search Result for 'The Great Gatsby':\")\n",
    "  print(f\"Title: {search_result['title']}, Author: {search_result['author']}, Publication Year: {search_result['publication_year']}\")\n",
    "else:\n",
    "  print(\"Binary Search: Book not found\")\n",
    "\n",
    "print(f\"\\nBinary search took {elapsed_time_binary:.5f} seconds.\") \n"
   ]
  },
  {
   "cell_type": "markdown",
   "id": "9b78a7a4-152a-45b3-aa6e-463535c0e4d6",
   "metadata": {},
   "source": [
    "### Observing the Search Process\n",
    "\n",
    "While the output for both searches might look the same, the way they got there was quite different! \n",
    "\n",
    "* **Linear Search:**  Think back to how linear search works – it checks each book one by one until it reaches the end of the catalog. Since \"Dune\" isn't there, it had to go through the entire list before giving up. \n",
    "\n",
    "* **Binary Search:**  Binary search, on the other hand, is more strategic. It keeps dividing the catalog in half, eliminating large chunks with each step.  Even though our catalog is small, you might have noticed it didn't have to check every single book to know \"Dune\" wasn't there. \n",
    "\n",
    "With the significantly larger dataset (`big_book_catalog.csv`), you should observe a a bigger difference in search times. The linear search, having to potentially check every single book, will likely take a noticeable amount of time. In contrast, the binary search, with its divide-and-conquer strategy, should be considerably faster. This efficiency gain becomes even more crucial as the size of the catalog grows.\n",
    "\n",
    "* If the catalog had 1,000,000 books, the linear search could potentially take 10 times longer than it did with the current dataset. However, the binary search's time would only increase slightly. It's safe to say that binary search would be dramatically faster in such a scenario, highlighting its superiority for large datasets."
   ]
  }
 ],
 "metadata": {
  "kernelspec": {
   "display_name": "Python 3",
   "language": "python",
   "name": "python3"
  },
  "language_info": {
   "codemirror_mode": {
    "name": "ipython",
    "version": 3
   },
   "file_extension": ".py",
   "mimetype": "text/x-python",
   "name": "python",
   "nbconvert_exporter": "python",
   "pygments_lexer": "ipython3",
   "version": "3.8.8"
  },
  "toc-autonumbering": false,
  "toc-showcode": false
 },
 "nbformat": 4,
 "nbformat_minor": 5
}
